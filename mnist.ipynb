{
 "metadata": {
  "language_info": {
   "codemirror_mode": {
    "name": "ipython",
    "version": 3
   },
   "file_extension": ".py",
   "mimetype": "text/x-python",
   "name": "python",
   "nbconvert_exporter": "python",
   "pygments_lexer": "ipython3",
   "version": "3.8.3-final"
  },
  "orig_nbformat": 2,
  "kernelspec": {
   "name": "python3",
   "display_name": "Python 3.8.3 64-bit (conda)",
   "metadata": {
    "interpreter": {
     "hash": "948d73eb6dfda2e804d788ca8e9f193cc8a7762f6fd3fe59d9c3fe882d54f9f4"
    }
   }
  }
 },
 "nbformat": 4,
 "nbformat_minor": 2,
 "cells": [
  {
   "cell_type": "code",
   "execution_count": 41,
   "metadata": {},
   "outputs": [],
   "source": [
    "from sklearn.datasets import fetch_openml"
   ]
  },
  {
   "cell_type": "code",
   "execution_count": 42,
   "metadata": {},
   "outputs": [],
   "source": [
    "mnist = fetch_openml('mnist_784')"
   ]
  },
  {
   "cell_type": "code",
   "execution_count": 43,
   "metadata": {},
   "outputs": [],
   "source": [
    "x, y = mnist['data'], mnist['target']"
   ]
  },
  {
   "cell_type": "code",
   "execution_count": 44,
   "metadata": {},
   "outputs": [
    {
     "output_type": "execute_result",
     "data": {
      "text/plain": [
       "(70000, 784)"
      ]
     },
     "metadata": {},
     "execution_count": 44
    }
   ],
   "source": [
    "x.shape"
   ]
  },
  {
   "cell_type": "code",
   "execution_count": 45,
   "metadata": {},
   "outputs": [
    {
     "output_type": "execute_result",
     "data": {
      "text/plain": [
       "(70000,)"
      ]
     },
     "metadata": {},
     "execution_count": 45
    }
   ],
   "source": [
    "y.shape"
   ]
  },
  {
   "cell_type": "code",
   "execution_count": 46,
   "metadata": {},
   "outputs": [],
   "source": [
    "%matplotlib inline"
   ]
  },
  {
   "cell_type": "code",
   "execution_count": 47,
   "metadata": {},
   "outputs": [],
   "source": [
    "import matplotlib\n",
    "import matplotlib.pyplot as plt"
   ]
  },
  {
   "cell_type": "code",
   "execution_count": 48,
   "metadata": {},
   "outputs": [],
   "source": [
    "some_digit=x[3601]\n",
    "some_digit_image=some_digit.reshape(28,28)"
   ]
  },
  {
   "cell_type": "code",
   "execution_count": 49,
   "metadata": {},
   "outputs": [
    {
     "output_type": "execute_result",
     "data": {
      "text/plain": [
       "(-0.5, 27.5, 27.5, -0.5)"
      ]
     },
     "metadata": {},
     "execution_count": 49
    },
    {
     "output_type": "display_data",
     "data": {
      "text/plain": "<Figure size 432x288 with 1 Axes>",
      "image/svg+xml": "<?xml version=\"1.0\" encoding=\"utf-8\" standalone=\"no\"?>\r\n<!DOCTYPE svg PUBLIC \"-//W3C//DTD SVG 1.1//EN\"\r\n  \"http://www.w3.org/Graphics/SVG/1.1/DTD/svg11.dtd\">\r\n<!-- Created with matplotlib (https://matplotlib.org/) -->\r\n<svg height=\"231.84pt\" version=\"1.1\" viewBox=\"0 0 231.84 231.84\" width=\"231.84pt\" xmlns=\"http://www.w3.org/2000/svg\" xmlns:xlink=\"http://www.w3.org/1999/xlink\">\r\n <defs>\r\n  <style type=\"text/css\">\r\n*{stroke-linecap:butt;stroke-linejoin:round;}\r\n  </style>\r\n </defs>\r\n <g id=\"figure_1\">\r\n  <g id=\"patch_1\">\r\n   <path d=\"M 0 231.84 \r\nL 231.84 231.84 \r\nL 231.84 0 \r\nL 0 0 \r\nz\r\n\" style=\"fill:none;\"/>\r\n  </g>\r\n  <g id=\"axes_1\">\r\n   <g clip-path=\"url(#p0cc44993c8)\">\r\n    <image height=\"218\" id=\"imagedfcbba65f0\" transform=\"scale(1 -1)translate(0 -218)\" width=\"218\" x=\"7.2\" xlink:href=\"data:image/png;base64,\r\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\" y=\"-6.64\"/>\r\n   </g>\r\n  </g>\r\n </g>\r\n <defs>\r\n  <clipPath id=\"p0cc44993c8\">\r\n   <rect height=\"217.44\" width=\"217.44\" x=\"7.2\" y=\"7.2\"/>\r\n  </clipPath>\r\n </defs>\r\n</svg>\r\n",
      "image/png": "[encoded data removed]"
     },
     "metadata": {
      "needs_background": "light"
     }
    }
   ],
   "source": [
    "plt.imshow(some_digit_image, cmap=matplotlib.cm.binary, interpolation=\"nearest\")\n",
    "plt.axis(\"off\")"
   ]
  },
  {
   "cell_type": "code",
   "execution_count": 50,
   "metadata": {},
   "outputs": [
    {
     "output_type": "execute_result",
     "data": {
      "text/plain": [
       "'8'"
      ]
     },
     "metadata": {},
     "execution_count": 50
    }
   ],
   "source": [
    "y[3601]"
   ]
  },
  {
   "cell_type": "code",
   "execution_count": 51,
   "metadata": {},
   "outputs": [],
   "source": [
    " x_train, x_test = x[0:6000], x[6000:7000]"
   ]
  },
  {
   "cell_type": "code",
   "execution_count": 52,
   "metadata": {},
   "outputs": [],
   "source": [
    "y_train, y_test = y[0:6000], y[6000:7000]"
   ]
  },
  {
   "cell_type": "code",
   "execution_count": 53,
   "metadata": {},
   "outputs": [],
   "source": [
    "import numpy as np \n",
    "shuffle_index = np.random.permutation(6000)\n",
    "x_train, y_train = x_train[shuffle_index], y_train[shuffle_index]"
   ]
  },
  {
   "cell_type": "code",
   "execution_count": 54,
   "metadata": {},
   "outputs": [],
   "source": [
    "y_train = y_train.astype(np.int8)\n",
    "y_test = y_test.astype(np.int8)\n",
    "y_train_2 = (y_train==2)\n",
    "y_test_2 = (y_test==2)"
   ]
  },
  {
   "cell_type": "code",
   "execution_count": 55,
   "metadata": {},
   "outputs": [
    {
     "output_type": "execute_result",
     "data": {
      "text/plain": [
       "array([8, 2, 9, ..., 7, 6, 9], dtype=int8)"
      ]
     },
     "metadata": {},
     "execution_count": 55
    }
   ],
   "source": [
    "y_train"
   ]
  },
  {
   "cell_type": "code",
   "execution_count": 56,
   "metadata": {},
   "outputs": [],
   "source": [
    "from sklearn.linear_model import LogisticRegression"
   ]
  },
  {
   "cell_type": "code",
   "execution_count": 57,
   "metadata": {},
   "outputs": [],
   "source": [
    "clf = LogisticRegression(tol = 0.1)"
   ]
  },
  {
   "cell_type": "code",
   "execution_count": 58,
   "metadata": {},
   "outputs": [
    {
     "output_type": "execute_result",
     "data": {
      "text/plain": [
       "LogisticRegression(tol=0.1)"
      ]
     },
     "metadata": {},
     "execution_count": 58
    }
   ],
   "source": [
    "clf.fit(x_train, y_train_2)"
   ]
  },
  {
   "cell_type": "code",
   "execution_count": 59,
   "metadata": {},
   "outputs": [
    {
     "output_type": "execute_result",
     "data": {
      "text/plain": [
       "array([False])"
      ]
     },
     "metadata": {},
     "execution_count": 59
    }
   ],
   "source": [
    "clf.predict([some_digit])"
   ]
  },
  {
   "cell_type": "code",
   "execution_count": 61,
   "metadata": {},
   "outputs": [],
   "source": [
    "from sklearn.model_selection import cross_val_score\n",
    "a=cross_val_score(clf, x_train, y_train_2, cv=3, scoring=\"accuracy\")"
   ]
  },
  {
   "cell_type": "code",
   "execution_count": 62,
   "metadata": {},
   "outputs": [
    {
     "output_type": "execute_result",
     "data": {
      "text/plain": [
       "0.9531666666666667"
      ]
     },
     "metadata": {},
     "execution_count": 62
    }
   ],
   "source": [
    "a.mean()"
   ]
  },
  {
   "cell_type": "code",
   "execution_count": null,
   "metadata": {},
   "outputs": [],
   "source": []
  }
 ]
}